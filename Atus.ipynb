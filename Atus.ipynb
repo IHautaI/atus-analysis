{
 "cells": [
  {
   "cell_type": "code",
   "execution_count": 17,
   "metadata": {
    "collapsed": false
   },
   "outputs": [],
   "source": [
    "from atus import loader\n",
    "import pandas as pd\n",
    "import re\n",
    "from matplotlib import pyplot as plt\n",
    "import seaborn\n",
    "%matplotlib inline"
   ]
  },
  {
   "cell_type": "code",
   "execution_count": 2,
   "metadata": {
    "collapsed": false
   },
   "outputs": [],
   "source": [
    "summary = loader.csv_opener('atussum_2013')"
   ]
  },
  {
   "cell_type": "markdown",
   "metadata": {},
   "source": [
    "Pertinent columns\n",
    "=========\n",
    "\n",
    "##In the Summary\n",
    "\n",
    "\n",
    "+ TUFINLWGT - statistical weight of respondent\n",
    "+ TRYHHCHILD - age of youngest child in household\n",
    "+ TEAGE - age of respondent\n",
    "+ TESEX - sex of respondent\n",
    "+ TELFS - working status of respondent, 1 or 2 => employed\n",
    "+ TRCHILDNUM - number of children in household < 18 yrs\n",
    "+ TRERNWA - Weekly Earnings/main job\n",
    "+ TEHRULST - (edited) hours worked per week\n",
    "+ TRTALONE - non-work related time spend alone\n",
    "+ TRTFAMILY - non-work time spend with family\n",
    "+ TRTFRIEND - \"\"  with friends\n",
    "+ t020602 - playing with/exercising/walking pets"
   ]
  },
  {
   "cell_type": "code",
   "execution_count": 3,
   "metadata": {
    "collapsed": false
   },
   "outputs": [
    {
     "name": "stdout",
     "output_type": "stream",
     "text": [
      "<class 'pandas.core.frame.DataFrame'>\n",
      "Int64Index: 11385 entries, 0 to 11384\n",
      "Columns: 413 entries, tucaseid to t500107\n",
      "dtypes: float64(1), int64(412)\n",
      "memory usage: 36.0 MB\n"
     ]
    }
   ],
   "source": [
    "summary.info()"
   ]
  },
  {
   "cell_type": "code",
   "execution_count": 4,
   "metadata": {
    "collapsed": false
   },
   "outputs": [
    {
     "data": {
      "text/plain": [
       "1    6529\n",
       "5    3965\n",
       "4     548\n",
       "2     295\n",
       "3      48\n",
       "dtype: int64"
      ]
     },
     "execution_count": 4,
     "metadata": {},
     "output_type": "execute_result"
    }
   ],
   "source": [
    "summary['TELFS'].value_counts()"
   ]
  },
  {
   "cell_type": "markdown",
   "metadata": {},
   "source": [
    "set some basic categories"
   ]
  },
  {
   "cell_type": "code",
   "execution_count": 5,
   "metadata": {
    "collapsed": false
   },
   "outputs": [],
   "source": [
    "no_children = summary.TRCHILDNUM == 0\n",
    "adults = summary.TEAGE >= 18\n",
    "working = (summary.TELFS == 1) | (summary.TELFS == 2)"
   ]
  },
  {
   "cell_type": "markdown",
   "metadata": {},
   "source": [
    "## Adults with no children who work"
   ]
  },
  {
   "cell_type": "code",
   "execution_count": 6,
   "metadata": {
    "collapsed": false
   },
   "outputs": [],
   "source": [
    "childless_working_adults = summary[no_children & adults & working]\n",
    "childless_working_adults.set_index('tucaseid', inplace=True)"
   ]
  },
  {
   "cell_type": "code",
   "execution_count": 7,
   "metadata": {
    "collapsed": false
   },
   "outputs": [],
   "source": [
    "%%capture\n",
    "les = [item for item in childless_working_adults.columns if re.match(r't12[0-9]{4}|t13[0-9]{4}|t14[0-9]{4}|t160101|t160102|t160299', item)]\n",
    "\n",
    "total_weights = childless_working_adults['TUFINLWGT'].sum()\n",
    "\n",
    "leisure = childless_working_adults[les]\n",
    "\n",
    "leisure['total'] = leisure.sum(1)\n",
    "\n",
    "leisure['total'] = leisure['total'].mul(childless_working_adults['TUFINLWGT'], axis=0)\n"
   ]
  },
  {
   "cell_type": "markdown",
   "metadata": {},
   "source": [
    "Atus summary comparison:\n",
    "\n",
    "Atus says childless working adults spend 4.5 hours on average\n",
    "on leisure activities.\n",
    "\n",
    "My findings (including religious/spiritual activities (t14), sporting events (t13), telephone calls with family/friends (t16), social/relaxing/leisure (t12) :"
   ]
  },
  {
   "cell_type": "code",
   "execution_count": 8,
   "metadata": {
    "collapsed": false
   },
   "outputs": [
    {
     "name": "stdout",
     "output_type": "stream",
     "text": [
      "4.5 hours\n"
     ]
    }
   ],
   "source": [
    "print(round(leisure['total'].sum()/(total_weights*60), 1), 'hours')\n"
   ]
  },
  {
   "cell_type": "code",
   "execution_count": 15,
   "metadata": {
    "collapsed": false
   },
   "outputs": [],
   "source": [
    "%%capture\n",
    "wait = [item for item in childless_working_adults.columns if re.match(r't1102[0-9]{2}', item)]\n",
    "waiting_to_eat = childless_working_adults[wait]\n",
    "waiting_to_eat['total'] = waiting_to_eat.sum(1)\n",
    "waiting_to_eat['total'] = waiting_to_eat['total'].mul(childless_working_adults['TUFINLWGT'], axis=0)"
   ]
  },
  {
   "cell_type": "code",
   "execution_count": 16,
   "metadata": {
    "collapsed": false
   },
   "outputs": [
    {
     "name": "stdout",
     "output_type": "stream",
     "text": [
      "0.16 minutes\n"
     ]
    }
   ],
   "source": [
    "print(round(waiting_to_eat['total'].sum()/(total_weights), 3), 'minutes')"
   ]
  },
  {
   "cell_type": "code",
   "execution_count": null,
   "metadata": {
    "collapsed": true
   },
   "outputs": [],
   "source": []
  }
 ],
 "metadata": {
  "kernelspec": {
   "display_name": "Python 3",
   "language": "python",
   "name": "python3"
  },
  "language_info": {
   "codemirror_mode": {
    "name": "ipython",
    "version": 3
   },
   "file_extension": ".py",
   "mimetype": "text/x-python",
   "name": "python",
   "nbconvert_exporter": "python",
   "pygments_lexer": "ipython3",
   "version": "3.4.3"
  }
 },
 "nbformat": 4,
 "nbformat_minor": 0
}
